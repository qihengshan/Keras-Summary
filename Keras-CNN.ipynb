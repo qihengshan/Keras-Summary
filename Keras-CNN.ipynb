{
 "cells": [
  {
   "cell_type": "markdown",
   "metadata": {},
   "source": [
    "## keras实现Convolutional Neural Network\n",
    "\n",
    "我们和分类一样，同样使用数据集MNIST。不同的是用的层比较多"
   ]
  },
  {
   "cell_type": "code",
   "execution_count": 47,
   "metadata": {},
   "outputs": [],
   "source": [
    "import numpy as np\n",
    "np.random.seed(100)  # for reproducibility\n",
    "from keras.datasets import mnist\n",
    "from keras.models import Sequential\n",
    "from keras.utils import np_utils\n",
    "from keras.layers import Dense, Activation, Convolution2D, MaxPooling2D, Flatten\n",
    "from keras.optimizers import Adam"
   ]
  },
  {
   "cell_type": "code",
   "execution_count": 48,
   "metadata": {},
   "outputs": [],
   "source": [
    "(X_train, y_train), (X_test, y_test) = mnist.load_data()\n",
    "X_train = X_train.reshape(-1, 1, 28, 28)   # -1 自动计算sample的个数，1代表channel, 28/28 代表长和宽\n",
    "X_test = X_test.reshape(-1, 1, 28, 28)\n",
    "y_train = np_utils.to_categorical(y_train, num_classes=10)\n",
    "y_test = np_utils.to_categorical(y_test, num_classes=10)"
   ]
  },
  {
   "cell_type": "code",
   "execution_count": null,
   "metadata": {},
   "outputs": [],
   "source": [
    "X_train.shape"
   ]
  },
  {
   "cell_type": "markdown",
   "metadata": {},
   "source": [
    "### [构建模型](https://keras.io/layers/convolutional/)\n",
    "\n",
    "* filter: feature map的数量为32，大小是3*3\n",
    "* Padding方法是same 基本保持数据的长度和宽带。 因为是第一层所以需要说明输入数据的 shape ，激励选择 relu 函数。代码如下"
   ]
  },
  {
   "cell_type": "code",
   "execution_count": 49,
   "metadata": {},
   "outputs": [
    {
     "name": "stdout",
     "output_type": "stream",
     "text": [
      "tf.__version__ is 2.1.0\n",
      "tf.keras.__version__ is: 2.2.4-tf\n"
     ]
    }
   ],
   "source": [
    "# 解决如下报错：\n",
    "# AttributeError: module 'tensorflow_core._api.v2.config' has no attribute 'experimental_list_devices'\n",
    "import keras.backend.tensorflow_backend as tfback\n",
    "import tensorflow as tf\n",
    "\n",
    "\n",
    "print(\"tf.__version__ is\", tf.__version__)\n",
    "print(\"tf.keras.__version__ is:\", tf.keras.__version__)\n",
    "\n",
    "def _get_available_gpus():  \n",
    "\n",
    "    if tfback._LOCAL_DEVICES is None:  \n",
    "        devices = tf.config.list_logical_devices()  \n",
    "        tfback._LOCAL_DEVICES = [x.name for x in devices]  \n",
    "    return [x for x in tfback._LOCAL_DEVICES if 'device:gpu' in x.lower()]\n",
    "\n",
    "\n",
    "tfback._get_available_gpus = _get_available_gpus"
   ]
  },
  {
   "cell_type": "code",
   "execution_count": 53,
   "metadata": {},
   "outputs": [],
   "source": [
    "model = Sequential()\n",
    "# 第一层卷积(64, 28, 28)\n",
    "model.add(Convolution2D(batch_input_shape=(32, 1, 28, 28), # 这里59968/60000\n",
    "    filters=32, kernel_size=3, strides=1, padding='same', data_format='channels_first',activation='relu'))\n",
    "# 池化层 (32, 14, 14)\n",
    "model.add(MaxPooling2D(pool_size=2, strides=2, padding='same', data_format='channels_first'))\n",
    "# 第二层卷积 和 池化\n",
    "model.add(Convolution2D(filters=64, kernel_size=5, strides=1, padding='same', data_format='channels_first', activation='relu'))\n",
    "model.add(MaxPooling2D(2, 2, padding='same', data_format='channels_first'))  # (64, 7, 7)\n",
    "\n",
    "# (64, 7, 7)输出，输入下面的神经网络\n",
    "model.add(Flatten())  # 展平\n",
    "model.add(Dense(1024, activation='relu'))  # 第一层神经网络\n",
    "model.add(Dense(10, activation='softmax')) # 最后输出层，多类别预测使用激活函数： softmax\n",
    "\n",
    "# 定义优化器\n",
    "adam = Adam(lr=0.001)\n",
    "# 编译模型\n",
    "model.compile(optimizer=adam,\n",
    "              loss='categorical_crossentropy',\n",
    "              metrics=['accuracy'])"
   ]
  },
  {
   "cell_type": "markdown",
   "metadata": {},
   "source": [
    "### 训练模型"
   ]
  },
  {
   "cell_type": "code",
   "execution_count": 54,
   "metadata": {},
   "outputs": [
    {
     "name": "stdout",
     "output_type": "stream",
     "text": [
      "Epoch 1/1\n",
      "60000/60000 [==============================] - 266s 4ms/step - loss: 0.4471 - accuracy: 0.9433\n"
     ]
    },
    {
     "data": {
      "text/plain": [
       "<keras.callbacks.callbacks.History at 0x13905c9d0>"
      ]
     },
     "execution_count": 54,
     "metadata": {},
     "output_type": "execute_result"
    }
   ],
   "source": [
    "model.fit(X_train, y_train, epochs=1, batch_size=32)  # 32 和model第一层卷积输入一致"
   ]
  },
  {
   "cell_type": "markdown",
   "metadata": {},
   "source": [
    "### 评估模型"
   ]
  },
  {
   "cell_type": "code",
   "execution_count": 55,
   "metadata": {},
   "outputs": [
    {
     "name": "stdout",
     "output_type": "stream",
     "text": [
      "10000/10000 [==============================] - 7s 743us/step\n",
      "Test Loss: 0.08896584861733718\n",
      "Test Accuracy: 0.9716453552246094\n"
     ]
    }
   ],
   "source": [
    "# Evaluate the model with the metrics we defined earlier\n",
    "loss, accuracy = model.evaluate(X_test, y_test)\n",
    "print(f\"Test Loss: {loss}\\nTest Accuracy: {accuracy}\")"
   ]
  },
  {
   "cell_type": "code",
   "execution_count": null,
   "metadata": {},
   "outputs": [],
   "source": []
  }
 ],
 "metadata": {
  "kernelspec": {
   "display_name": "Python 3",
   "language": "python",
   "name": "python3"
  },
  "language_info": {
   "codemirror_mode": {
    "name": "ipython",
    "version": 3
   },
   "file_extension": ".py",
   "mimetype": "text/x-python",
   "name": "python",
   "nbconvert_exporter": "python",
   "pygments_lexer": "ipython3",
   "version": "3.7.4"
  }
 },
 "nbformat": 4,
 "nbformat_minor": 2
}
